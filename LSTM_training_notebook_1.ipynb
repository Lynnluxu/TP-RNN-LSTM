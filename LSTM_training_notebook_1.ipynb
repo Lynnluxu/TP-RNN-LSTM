{
  "nbformat": 4,
  "nbformat_minor": 0,
  "metadata": {
    "kernelspec": {
      "display_name": "Python 3",
      "language": "python",
      "name": "python3"
    },
    "language_info": {
      "codemirror_mode": {
        "name": "ipython",
        "version": 3
      },
      "file_extension": ".py",
      "mimetype": "text/x-python",
      "name": "python",
      "nbconvert_exporter": "python",
      "pygments_lexer": "ipython3",
      "version": "3.6.6"
    },
    "colab": {
      "name": "LSTM-training-notebook-1.ipynb",
      "provenance": [],
      "include_colab_link": true
    }
  },
  "cells": [
    {
      "cell_type": "markdown",
      "metadata": {
        "id": "view-in-github",
        "colab_type": "text"
      },
      "source": [
        "<a href=\"https://colab.research.google.com/github/Lynnluxu/tpRNN/blob/master/LSTM_training_notebook_1.ipynb\" target=\"_parent\"><img src=\"https://colab.research.google.com/assets/colab-badge.svg\" alt=\"Open In Colab\"/></a>"
      ]
    },
    {
      "cell_type": "code",
      "metadata": {
        "id": "DAJaK7A3QD5b",
        "colab_type": "code",
        "colab": {}
      },
      "source": [
        "import torch\n",
        "import torch.nn as nn\n",
        "import torchvision.transforms as transforms\n",
        "import torchvision.datasets as dsets"
      ],
      "execution_count": 0,
      "outputs": []
    },
    {
      "cell_type": "code",
      "metadata": {
        "id": "PZhsAZ0FQD5h",
        "colab_type": "code",
        "colab": {}
      },
      "source": [
        "##Load an MNIST dataset with a tensor transformation\n",
        "train_dataset = dsets.##(root='./data', \n",
        "                            train=True, \n",
        "                            transform=##,\n",
        "                            download=True)\n",
        "\n",
        "test_dataset = dsets.##(root='./data', \n",
        "                           train=False, \n",
        "                           transform=##)"
      ],
      "execution_count": 0,
      "outputs": []
    },
    {
      "cell_type": "code",
      "metadata": {
        "id": "GlWVue8xQD5k",
        "colab_type": "code",
        "colab": {}
      },
      "source": [
        "#print train data size\n",
        "print(train_dataset.train_data.size())"
      ],
      "execution_count": 0,
      "outputs": []
    },
    {
      "cell_type": "code",
      "metadata": {
        "id": "aSilTVk2QD5m",
        "colab_type": "code",
        "colab": {}
      },
      "source": [
        "##print train labels size\n",
        "print(train_dataset.##)"
      ],
      "execution_count": 0,
      "outputs": []
    },
    {
      "cell_type": "code",
      "metadata": {
        "id": "3ibJK05LQD5p",
        "colab_type": "code",
        "colab": {}
      },
      "source": [
        "##print test data size\n",
        "print(test_dataset.##)"
      ],
      "execution_count": 0,
      "outputs": []
    },
    {
      "cell_type": "code",
      "metadata": {
        "id": "pySDzLaFQD5s",
        "colab_type": "code",
        "colab": {}
      },
      "source": [
        "##print test labels size\n",
        "print(test_dataset.##)"
      ],
      "execution_count": 0,
      "outputs": []
    },
    {
      "cell_type": "code",
      "metadata": {
        "id": "9ySWQRHhQD5u",
        "colab_type": "code",
        "colab": {}
      },
      "source": [
        "#iterate on the dataset\n",
        "batch_size = 100\n",
        "n_iters = 3000\n",
        "## caluculate num_epochs knwing that (number of epochs = number of iterations / (dataset lenght/ batch size))\n",
        "num_epochs = ##\n",
        "num_epochs = int(num_epochs)\n",
        "\n",
        "##use torch utils dataloader to load the training and test data\n",
        "train_loader = torch.utils.data.##(dataset=train_dataset, \n",
        "                                           batch_size=batch_size, \n",
        "                                           shuffle=True)\n",
        "\n",
        "test_loader = torch.utils.data.##(dataset=test_dataset, \n",
        "                                          batch_size=batch_size, \n",
        "                                          shuffle=False)"
      ],
      "execution_count": 0,
      "outputs": []
    },
    {
      "cell_type": "code",
      "metadata": {
        "id": "zhDCqHDOQD5x",
        "colab_type": "code",
        "colab": {}
      },
      "source": [
        "#Creating an LSTM model class\n",
        "class LSTMModel(nn.Module):\n",
        "    def __init__(self, input_dim, hidden_dim, layer_dim, output_dim):\n",
        "        super(LSTMModel, self).__init__()\n",
        "        # Hidden dimensions\n",
        "        self.hidden_dim = hidden_dim\n",
        "\n",
        "        # Number of hidden layers\n",
        "        self.layer_dim = layer_dim\n",
        "\n",
        "        # Building your LSTM\n",
        "        # (batch_dim, seq_dim, feature_dim)\n",
        "        self.lstm = nn.LSTM(input_dim, hidden_dim, layer_dim, batch_first=True)\n",
        "\n",
        "        # Readout layer\n",
        "        self.fc = nn.Linear(hidden_dim, output_dim)\n",
        "\n",
        "    def forward(self, x):\n",
        "        # Initialize hidden state with zeros\n",
        "        ## add grad in the hidden state and the cell state initialization\n",
        "        h0 = torch.zeros(self.layer_dim, x.size(0), self.hidden_dim).##\n",
        "\n",
        "        # Initialize cell state\n",
        "        c0 = torch.zeros(self.layer_dim, x.size(0), self.hidden_dim).##\n",
        "        # We need to detach as we are doing truncated backpropagation through time (BPTT)\n",
        "        # If we don't, we'll backprop all the way to the start even after going through another batch\n",
        "        ##detach h0 and c0\n",
        "        out, (hn, cn) = self.lstm(x, (##(), ##()))\n",
        "\n",
        "        # Index hidden state of last time step\n",
        "        # out.size() --> 100, 28, 100\n",
        "        # out[:, -1, :] --> 100, 100 --> just want last time step hidden states! \n",
        "        out = self.fc(out[:, -1, :]) \n",
        "        # out.size() --> 100, 10\n",
        "        return out"
      ],
      "execution_count": 0,
      "outputs": []
    },
    {
      "cell_type": "code",
      "metadata": {
        "id": "IFUjlhUlQD5z",
        "colab_type": "code",
        "colab": {}
      },
      "source": [
        "input_dim = 28\n",
        "hidden_dim = 100\n",
        "layer_dim = 1\n",
        "output_dim = 10"
      ],
      "execution_count": 0,
      "outputs": []
    },
    {
      "cell_type": "code",
      "metadata": {
        "id": "2BGAHboCQD51",
        "colab_type": "code",
        "colab": {}
      },
      "source": [
        "##instantiate model class\n",
        "model = ##"
      ],
      "execution_count": 0,
      "outputs": []
    },
    {
      "cell_type": "code",
      "metadata": {
        "id": "66TuIR3PQD54",
        "colab_type": "code",
        "colab": {}
      },
      "source": [
        "##Choose a loss function knowing that it's a classification problem)\n",
        "criterion = nn.##"
      ],
      "execution_count": 0,
      "outputs": []
    },
    {
      "cell_type": "code",
      "metadata": {
        "id": "qIt2BP1JQD56",
        "colab_type": "code",
        "colab": {}
      },
      "source": [
        "##Choose a learning rate then instantiate it to the optimizer)\n",
        "learning_rate = ##\n",
        "\n",
        "optimizer = torch.optim.SGD(model.parameters(), lr=##)  "
      ],
      "execution_count": 0,
      "outputs": []
    },
    {
      "cell_type": "code",
      "metadata": {
        "id": "yndSUebfQD58",
        "colab_type": "code",
        "colab": {}
      },
      "source": [
        "seq_dim = 28  \n",
        "\n",
        "##iniate the number of iterations (iter) read the loops below to understand\n",
        "for epoch in range(num_epochs):\n",
        "    for i, (images, labels) in enumerate(train_loader):\n",
        "        # Load images as a torch tensor with gradient accumulation abilities\n",
        "        images = images.view(-1, seq_dim, input_dim).requires_grad_()\n",
        "\n",
        "        ## Clear gradients \n",
        "        optimizer.##\n",
        "\n",
        "        # Forward pass to get output/logits\n",
        "        # outputs.size() --> 100, 10\n",
        "        outputs = model(images)\n",
        "\n",
        "        # Calculate Loss: softmax --> cross entropy loss\n",
        "        ## add the labels to the loss\n",
        "        loss = criterion(outputs, ##)\n",
        "\n",
        "        # Getting gradients w.r.t. parameters\n",
        "        loss.backward()\n",
        "\n",
        "        # Updating parameters\n",
        "        optimizer.step()\n",
        "\n",
        "        iter += 1\n",
        "\n",
        "        if iter % 500 == 0:\n",
        "            # Calculate Accuracy         \n",
        "            correct = 0\n",
        "            total = 0\n",
        "            # Iterate through test dataset\n",
        "            for images, labels in test_loader:\n",
        "                # Resize images\n",
        "                images = images.view(-1, seq_dim, input_dim)\n",
        "\n",
        "                # Forward pass only to get logits/output\n",
        "                outputs = model(images)\n",
        "\n",
        "                # Get predictions from the maximum value\n",
        "                _, predicted = torch.max(outputs.data, 1)\n",
        "\n",
        "                # Total number of labels\n",
        "                total += labels.size(0)\n",
        "\n",
        "                # Total correct predictions\n",
        "                correct += (predicted == labels).sum()\n",
        "\n",
        "            accuracy = 100 * correct / total\n",
        "\n",
        "            # Print Loss\n",
        "            print('Iteration: {}. Loss: {}. Accuracy: {}'.format(iter, loss.item(), accuracy))"
      ],
      "execution_count": 0,
      "outputs": []
    }
  ]
}