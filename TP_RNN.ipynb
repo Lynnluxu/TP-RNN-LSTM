{
  "nbformat": 4,
  "nbformat_minor": 0,
  "metadata": {
    "colab": {
      "name": "TP-RNN.ipynb",
      "provenance": []
    },
    "kernelspec": {
      "name": "python3",
      "display_name": "Python 3"
    }
  },
  "cells": [
    {
      "cell_type": "code",
      "metadata": {
        "id": "tFLVg82l9rqh",
        "colab_type": "code",
        "colab": {}
      },
      "source": [
        "# import\n",
        "import torch\n",
        "import torch.nn as nn\n",
        "import torchvision.transforms as transforms\n",
        "from torch.autograd import Variable\n",
        "import matplotlib.pyplot as plt\n",
        "import torchvision.datasets as dsets"
      ],
      "execution_count": 0,
      "outputs": []
    },
    {
      "cell_type": "code",
      "metadata": {
        "id": "iI5BDQNl95jz",
        "colab_type": "code",
        "colab": {}
      },
      "source": [
        "# Hyperparameters\n",
        "EPOCH =  # Define the training times\n",
        "BATCH_SIZE = 64\n",
        "TIME_STEP = 28\n",
        "INPUT_SIZE = 28\n",
        "LR = 0.01\n",
        "DOWNLOAD_MNIST = True"
      ],
      "execution_count": 0,
      "outputs": []
    },
    {
      "cell_type": "code",
      "metadata": {
        "id": "kPduHG2x-Z1W",
        "colab_type": "code",
        "colab": {}
      },
      "source": [
        "# MNIST digital data set\n",
        "train_data = dsets.MNIST(\n",
        "    root='./mnist/',\n",
        "    train=True,\n",
        "    transform=transforms.ToTensor(),\n",
        "    download=DOWNLOAD_MNIST,\n",
        ")\n"
      ],
      "execution_count": 0,
      "outputs": []
    },
    {
      "cell_type": "code",
      "metadata": {
        "id": "poKGc6NX-t1t",
        "colab_type": "code",
        "colab": {
          "base_uri": "https://localhost:8080/",
          "height": 383
        },
        "outputId": "4fb355e6-5ef3-4eb9-f84e-5a4e15f1337c"
      },
      "source": [
        "# Print one of the examples\n",
        "print(train_data.__.__)  # print the torch.Size of data(as below)\n",
        "print(train_data.__.__)  # print the torch.Size of labels(as below)\n",
        "plt.imshow(train_data.train_data[1], cmap='gray')\n",
        "plt.title('%i' % train_data.train_labels[1])\n",
        "plt.show()"
      ],
      "execution_count": 18,
      "outputs": [
        {
          "output_type": "stream",
          "text": [
            "torch.Size([60000, 28, 28])\n",
            "torch.Size([60000])\n"
          ],
          "name": "stdout"
        },
        {
          "output_type": "stream",
          "text": [
            "/usr/local/lib/python3.6/dist-packages/torchvision/datasets/mnist.py:53: UserWarning: train_data has been renamed data\n",
            "  warnings.warn(\"train_data has been renamed data\")\n",
            "/usr/local/lib/python3.6/dist-packages/torchvision/datasets/mnist.py:43: UserWarning: train_labels has been renamed targets\n",
            "  warnings.warn(\"train_labels has been renamed targets\")\n"
          ],
          "name": "stderr"
        },
        {
          "output_type": "display_data",
          "data": {
            "image/png": "[encoded data removed]",
            "text/plain": [
              "<Figure size 432x288 with 1 Axes>"
            ]
          },
          "metadata": {
            "tags": []
          }
        }
      ]
    },
    {
      "cell_type": "code",
      "metadata": {
        "id": "biUpVaPXHc8A",
        "colab_type": "code",
        "colab": {}
      },
      "source": [
        "# Data loader\n",
        "train_loader = torch.utils.data.DataLoader(\n",
        "    dataset=__, # MNIST digital data set\n",
        "    batch_size=BATCH_SIZE,\n",
        "    shuffle=True,    \n",
        ")"
      ],
      "execution_count": 0,
      "outputs": []
    },
    {
      "cell_type": "code",
      "metadata": {
        "id": "ly06sZ6zHpR2",
        "colab_type": "code",
        "colab": {
          "base_uri": "https://localhost:8080/",
          "height": 139
        },
        "outputId": "fbb07035-2a53-40b8-b869-f7bc7cab7726"
      },
      "source": [
        "# Convert test_data to Variable, and take out the first 2000 as test\n",
        "test_data = dsets.MNIST(\n",
        "    root='./mnist/', \n",
        "    train=False,\n",
        "    transform=transforms.ToTensor(),\n",
        ")\n",
        "test_x = Variable(test_data.test_data, volatile=True).type(torch.FloatTensor)[:2000]/255\n",
        "test_y = test_data.test_labels.numpy().squeeze()[:2000]"
      ],
      "execution_count": 20,
      "outputs": [
        {
          "output_type": "stream",
          "text": [
            "/usr/local/lib/python3.6/dist-packages/torchvision/datasets/mnist.py:58: UserWarning: test_data has been renamed data\n",
            "  warnings.warn(\"test_data has been renamed data\")\n",
            "/usr/local/lib/python3.6/dist-packages/ipykernel_launcher.py:6: UserWarning: volatile was removed and now has no effect. Use `with torch.no_grad():` instead.\n",
            "  \n",
            "/usr/local/lib/python3.6/dist-packages/torchvision/datasets/mnist.py:48: UserWarning: test_labels has been renamed targets\n",
            "  warnings.warn(\"test_labels has been renamed targets\")\n"
          ],
          "name": "stderr"
        }
      ]
    },
    {
      "cell_type": "code",
      "metadata": {
        "id": "hXK2imkzIIUl",
        "colab_type": "code",
        "colab": {}
      },
      "source": [
        "class RNN(nn.Module):\n",
        "    def __init__(self):\n",
        "        super(RNN, self).__init__()\n",
        "        \n",
        "        self.rnn = nn.LSTM(  # If use nn.RNN(), it is almost impossible to learn\n",
        "            input_size=INPUT_SIZE,\n",
        "            hidden_size=64,  # hidden unit\n",
        "            num_layers=1,  # rnn layers number\n",
        "            batch_first=True,  # The batch size of input & output is 1 dimension. For example (batch, time_step, input_size)\n",
        "        )\n",
        "        self.out = nn.Linear(64, 10)\n",
        "\n",
        "    def forward(self, x):\n",
        "        # x shape (batch, time_step, input_size)\n",
        "        # r_out shape (batch, time_step, output_size)\n",
        "        # h_n shape (n_layers, batch, hidden_size)\n",
        "        # h_c shape (n_layers, batch, hidden_size)\n",
        "        r_out, (h_n, h_c) = self.rnn(x, )  # zero initial hidden state\n",
        "        \n",
        "        # choose r_out at the last time step\n",
        "        out = self.out(r_out[:, -1, :])\n",
        "        return out"
      ],
      "execution_count": 0,
      "outputs": []
    },
    {
      "cell_type": "code",
      "metadata": {
        "id": "W_peOUitIR73",
        "colab_type": "code",
        "colab": {
          "base_uri": "https://localhost:8080/",
          "height": 85
        },
        "outputId": "bfa19c5e-d6fb-427e-f64c-12ad38420f03"
      },
      "source": [
        "rnn = RNN()\n",
        "print(rnn)"
      ],
      "execution_count": 22,
      "outputs": [
        {
          "output_type": "stream",
          "text": [
            "RNN(\n",
            "  (rnn): LSTM(28, 64, batch_first=True)\n",
            "  (out): Linear(in_features=64, out_features=10, bias=True)\n",
            ")\n"
          ],
          "name": "stdout"
        }
      ]
    },
    {
      "cell_type": "code",
      "metadata": {
        "id": "tjaXluRDIeGH",
        "colab_type": "code",
        "colab": {}
      },
      "source": [
        "optimizer = torch.optim.Adam(rnn.parameters(), lr=LR)\n",
        "loss_func = nn.CrossEntropyLoss()"
      ],
      "execution_count": 0,
      "outputs": []
    },
    {
      "cell_type": "code",
      "metadata": {
        "id": "3ou3WDHYImlf",
        "colab_type": "code",
        "colab": {
          "base_uri": "https://localhost:8080/",
          "height": 340
        },
        "outputId": "1ed4687e-2257-4906-db93-71b3c04365dc"
      },
      "source": [
        "# Train and test neural networks\n",
        "for epoch in range(EPOCH):\n",
        "    for step, (x, y) in enumerate(train_loader):        # gives batch data\n",
        "        b_x = Variable(x.view(-1, 28, 28))              # reshape x to (batch, time_step, input_size)\n",
        "        b_y = Variable(y)                               # batch y\n",
        " \n",
        "        output = __                               # rnn output\n",
        "        loss = loss_func(output, b_y)                   # cross entropy loss\n",
        "        optimizer.__                           # clear gradients for this training step\n",
        "        loss.__                                # backpropagation, compute gradients\n",
        "        optimizer.step()                                # apply gradients\n",
        " \n",
        "        if step % 50 == 0:\n",
        "            test_output = rnn(test_x)                   # (samples, time_step, input_size)\n",
        "            pred_y = torch.max(test_output, 1)[1].data.numpy().squeeze()\n",
        "            accuracy = sum(pred_y == test_y) / float(test_y.size)\n",
        "            print('Epoch: ', __, '| train loss: %.4f' % __, '| test accuracy: %.2f' % accuracy)"
      ],
      "execution_count": 26,
      "outputs": [
        {
          "output_type": "stream",
          "text": [
            "Epoch:  0 | train loss: 2.3114 | test accuracy: 0.10\n",
            "Epoch:  0 | train loss: 1.3816 | test accuracy: 0.52\n",
            "Epoch:  0 | train loss: 0.8640 | test accuracy: 0.67\n",
            "Epoch:  0 | train loss: 0.8618 | test accuracy: 0.78\n",
            "Epoch:  0 | train loss: 0.6302 | test accuracy: 0.84\n",
            "Epoch:  0 | train loss: 0.3067 | test accuracy: 0.87\n",
            "Epoch:  0 | train loss: 0.4814 | test accuracy: 0.89\n",
            "Epoch:  0 | train loss: 0.3070 | test accuracy: 0.89\n",
            "Epoch:  0 | train loss: 0.3432 | test accuracy: 0.93\n",
            "Epoch:  0 | train loss: 0.4534 | test accuracy: 0.93\n",
            "Epoch:  0 | train loss: 0.0740 | test accuracy: 0.94\n",
            "Epoch:  0 | train loss: 0.1413 | test accuracy: 0.94\n",
            "Epoch:  0 | train loss: 0.1141 | test accuracy: 0.92\n",
            "Epoch:  0 | train loss: 0.3847 | test accuracy: 0.93\n",
            "Epoch:  0 | train loss: 0.1260 | test accuracy: 0.94\n",
            "Epoch:  0 | train loss: 0.2264 | test accuracy: 0.95\n",
            "Epoch:  0 | train loss: 0.0907 | test accuracy: 0.95\n",
            "Epoch:  0 | train loss: 0.2364 | test accuracy: 0.95\n",
            "Epoch:  0 | train loss: 0.0356 | test accuracy: 0.96\n"
          ],
          "name": "stdout"
        }
      ]
    },
    {
      "cell_type": "code",
      "metadata": {
        "id": "MUA3uC7aI6PL",
        "colab_type": "code",
        "colab": {
          "base_uri": "https://localhost:8080/",
          "height": 51
        },
        "outputId": "4a7a96c7-84c3-44c6-8ebe-083cf236b5bf"
      },
      "source": [
        "# Print the first 10 test values\n",
        "test_output = rnn(test_x[:10].view(-1, 28, 28))\n",
        "pred_y = torch.max(test_output, 1)[1].data.numpy().squeeze()\n",
        "print(pred_y, 'prediction number')\n",
        "print(test_y[:10], 'real number')"
      ],
      "execution_count": 25,
      "outputs": [
        {
          "output_type": "stream",
          "text": [
            "[9 9 9 9 9 9 9 9 9 9] prediction number\n",
            "[7 2 1 0 4 1 4 9 5 9] real number\n"
          ],
          "name": "stdout"
        }
      ]
    }
  ]
}